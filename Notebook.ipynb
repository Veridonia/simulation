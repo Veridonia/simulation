{
 "cells": [
  {
   "cell_type": "code",
   "execution_count": 7,
   "metadata": {},
   "outputs": [],
   "source": [
    "import random\n",
    "import numpy as np\n",
    "import matplotlib.pyplot as plt\n",
    "from termcolor import colored\n",
    "from tqdm import tqdm"
   ]
  },
  {
   "cell_type": "code",
   "execution_count": 8,
   "metadata": {},
   "outputs": [],
   "source": [
    "class User:\n",
    "    def __init__(self, id, elo=800):\n",
    "        self.id = id\n",
    "        self.elo = elo\n",
    "        self.goodness = self.generate_goodness()\n",
    "        self.mood_factor = random.uniform(0, 0.1)  # Random value from 0 to 0.1\n",
    "        self.adjusted_goodness = self.goodness\n",
    "\n",
    "    def generate_goodness(self):\n",
    "        goodness = 1 - np.random.exponential(scale=0.3)  # Adjusted scale to 0.3\n",
    "        while goodness < 0:\n",
    "            goodness = 1 - np.random.exponential(scale=0.3)\n",
    "        return goodness\n",
    "\n",
    "    def apply_mood(self):\n",
    "        self.adjusted_goodness = self.goodness\n",
    "        if random.random() < self.mood_factor:\n",
    "            adjustment = random.uniform(0, 0.25)\n",
    "            if random.choice([True, False]):\n",
    "                self.adjusted_goodness = min(1, self.goodness * (1 + adjustment))  # Increase goodness by 0% to 25%\n",
    "            else:\n",
    "                self.adjusted_goodness = max(0, self.goodness * (1 - adjustment))  # Decrease goodness by 0% to 25%\n"
   ]
  },
  {
   "cell_type": "code",
   "execution_count": 70,
   "metadata": {},
   "outputs": [
    {
     "data": {
      "text/plain": [
       "array([-0.18070948, -1.34100993,  2.08221689,  0.57785876, -0.13365051,\n",
       "        0.70468727,  1.12460463, -0.86664897,  0.73777485,  0.68182381])"
      ]
     },
     "execution_count": 70,
     "metadata": {},
     "output_type": "execute_result"
    }
   ],
   "source": [
    "a = [10, 5, 0, 10]\n",
    "\n",
    "# Generate some random data\n",
    "data = np.random.randn(10)\n",
    "\n",
    "data"
   ]
  }
 ],
 "metadata": {
  "kernelspec": {
   "display_name": "Python 3",
   "language": "python",
   "name": "python3"
  },
  "language_info": {
   "codemirror_mode": {
    "name": "ipython",
    "version": 3
   },
   "file_extension": ".py",
   "mimetype": "text/x-python",
   "name": "python",
   "nbconvert_exporter": "python",
   "pygments_lexer": "ipython3",
   "version": "3.11.7"
  }
 },
 "nbformat": 4,
 "nbformat_minor": 2
}
